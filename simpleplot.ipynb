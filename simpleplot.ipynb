{
 "cells": [
  {
   "cell_type": "code",
   "execution_count": 1,
   "metadata": {},
   "outputs": [
    {
     "data": {
      "text/plain": [
       "<Figure size 432x288 with 0 Axes>"
      ]
     },
     "metadata": {},
     "output_type": "display_data"
    }
   ],
   "source": [
    "import matplotlib.pyplot as plt\n",
    "import datetime\n",
    "import pandas as pd\n",
    "import os\n",
    "import numpy as np\n",
    "import math\n",
    "from IPython.display import Image\n",
    "\n",
    "%matplotlib inline\n",
    "plt.style.use('seaborn-whitegrid')\n",
    "fig = plt.figure()"
   ]
  },
  {
   "cell_type": "code",
   "execution_count": null,
   "metadata": {},
   "outputs": [],
   "source": [
    "def simple_plot :\n",
    "    df = pd.read_csv('/Users/SurabhiGupta/Desktop/Github/cryptoBabes/four_feature_hour.csv')\n",
    "    plt.plot(df1['hours'], df1['average'], linestyle='dashed')\n",
    "    \n",
    "    df2 = pd.read_csv('/Users/SurabhiGupta/Desktop/Github/cryptoBabes/preprocessed1.csv')\n",
    "    \n",
    "    i = 0\n",
    "\n",
    "    df.groupby(['sell']).plot(x='time', y='price')\n",
    "\n",
    "    for group_name, group in df.groupby(['sell']):\n",
    "        print(group_name, '\\n')\n",
    "        print(group.head(), '\\n\\n\\n')\n",
    "        print('####################### Group ########################\\n')\n",
    "        i += 1"
   ]
  }
 ],
 "metadata": {
  "kernelspec": {
   "display_name": "Python 3",
   "language": "python",
   "name": "python3"
  },
  "language_info": {
   "codemirror_mode": {
    "name": "ipython",
    "version": 3
   },
   "file_extension": ".py",
   "mimetype": "text/x-python",
   "name": "python",
   "nbconvert_exporter": "python",
   "pygments_lexer": "ipython3",
   "version": "3.6.5"
  }
 },
 "nbformat": 4,
 "nbformat_minor": 2
}
